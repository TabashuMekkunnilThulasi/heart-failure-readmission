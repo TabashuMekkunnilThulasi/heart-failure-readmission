{
 "cells": [
  {
   "cell_type": "markdown",
   "id": "42446bf4",
   "metadata": {},
   "source": [
    "# Heart Failure Readmission Prediction\n",
    "Final Clean Notebook with SMOTE, Multiple Models, and Evaluation"
   ]
  },
  {
   "cell_type": "code",
   "execution_count": 1,
   "id": "8c457eee",
   "metadata": {},
   "outputs": [
    {
     "ename": "ModuleNotFoundError",
     "evalue": "No module named 'xgboost'",
     "output_type": "error",
     "traceback": [
      "\u001b[1;31m---------------------------------------------------------------------------\u001b[0m",
      "\u001b[1;31mModuleNotFoundError\u001b[0m                       Traceback (most recent call last)",
      "Cell \u001b[1;32mIn[1], line 16\u001b[0m\n\u001b[0;32m     14\u001b[0m \u001b[38;5;28;01mfrom\u001b[39;00m \u001b[38;5;21;01msklearn\u001b[39;00m\u001b[38;5;21;01m.\u001b[39;00m\u001b[38;5;21;01mensemble\u001b[39;00m \u001b[38;5;28;01mimport\u001b[39;00m RandomForestClassifier\n\u001b[0;32m     15\u001b[0m \u001b[38;5;28;01mfrom\u001b[39;00m \u001b[38;5;21;01msklearn\u001b[39;00m\u001b[38;5;21;01m.\u001b[39;00m\u001b[38;5;21;01msvm\u001b[39;00m \u001b[38;5;28;01mimport\u001b[39;00m SVC\n\u001b[1;32m---> 16\u001b[0m \u001b[38;5;28;01mfrom\u001b[39;00m \u001b[38;5;21;01mxgboost\u001b[39;00m \u001b[38;5;28;01mimport\u001b[39;00m XGBClassifier\n\u001b[0;32m     17\u001b[0m \u001b[38;5;28;01mfrom\u001b[39;00m \u001b[38;5;21;01mimblearn\u001b[39;00m\u001b[38;5;21;01m.\u001b[39;00m\u001b[38;5;21;01mover_sampling\u001b[39;00m \u001b[38;5;28;01mimport\u001b[39;00m SMOTE\n\u001b[0;32m     19\u001b[0m \u001b[38;5;28;01mfrom\u001b[39;00m \u001b[38;5;21;01msklearn\u001b[39;00m\u001b[38;5;21;01m.\u001b[39;00m\u001b[38;5;21;01mmetrics\u001b[39;00m \u001b[38;5;28;01mimport\u001b[39;00m (\n\u001b[0;32m     20\u001b[0m     accuracy_score, precision_score, recall_score,\n\u001b[0;32m     21\u001b[0m     f1_score, roc_auc_score, roc_curve,\n\u001b[0;32m     22\u001b[0m     confusion_matrix, ConfusionMatrixDisplay\n\u001b[0;32m     23\u001b[0m )\n",
      "\u001b[1;31mModuleNotFoundError\u001b[0m: No module named 'xgboost'"
     ]
    }
   ],
   "source": [
    "\n",
    "import warnings\n",
    "warnings.filterwarnings(\"ignore\")\n",
    "\n",
    "import os\n",
    "os.environ['XGBOOST_ENABLE_WARNINGS'] = '0'\n",
    "\n",
    "import pandas as pd\n",
    "import matplotlib.pyplot as plt\n",
    "import seaborn as sns\n",
    "\n",
    "from sklearn.model_selection import train_test_split, GridSearchCV\n",
    "from sklearn.preprocessing import StandardScaler\n",
    "from sklearn.linear_model import LogisticRegression\n",
    "from sklearn.ensemble import RandomForestClassifier\n",
    "from sklearn.svm import SVC\n",
    "from xgboost import XGBClassifier\n",
    "from imblearn.over_sampling import SMOTE\n",
    "\n",
    "from sklearn.metrics import (\n",
    "    accuracy_score, precision_score, recall_score,\n",
    "    f1_score, roc_auc_score, roc_curve,\n",
    "    confusion_matrix, ConfusionMatrixDisplay\n",
    ")\n",
    "import joblib\n",
    "    "
   ]
  },
  {
   "cell_type": "code",
   "execution_count": null,
   "id": "d40bfd01",
   "metadata": {},
   "outputs": [],
   "source": [
    "\n",
    "data = pd.read_csv(\"GHW_HeartFailure_Readmission_Combined.csv\")\n",
    "print(\"Missing Values:\\n\", data.isnull().sum())\n",
    "\n",
    "# Drop ID and extract target\n",
    "data.drop(\"Patient_ID\", axis=1, inplace=True)\n",
    "target = data[\"Readmission_30or60Days\"]\n",
    "data.drop([\"Readmission_30Days\", \"Readmission_60Days\", \"Readmission_30or60Days\"], axis=1, inplace=True)\n",
    "\n",
    "# Fill missing\n",
    "data.fillna(data.median(numeric_only=True), inplace=True)\n",
    "\n",
    "# Encode categoricals\n",
    "data = pd.get_dummies(data, columns=[\"Gender\", \"Ethnicity\", \"Discharge_Disposition\"], drop_first=True)\n",
    "    "
   ]
  },
  {
   "cell_type": "code",
   "execution_count": null,
   "id": "a3b57c83",
   "metadata": {},
   "outputs": [],
   "source": [
    "\n",
    "plt.figure(figsize=(6, 4))\n",
    "sns.countplot(x=target)\n",
    "plt.title(\"Readmission Class Distribution\")\n",
    "plt.xlabel(\"Readmitted (1) vs Not (0)\")\n",
    "plt.tight_layout()\n",
    "plt.show()\n",
    "\n",
    "plt.figure(figsize=(10, 8))\n",
    "sns.heatmap(pd.concat([data, target], axis=1).corr(), cmap=\"coolwarm\", annot=False)\n",
    "plt.title(\"Correlation Heatmap\")\n",
    "plt.tight_layout()\n",
    "plt.show()\n",
    "    "
   ]
  },
  {
   "cell_type": "code",
   "execution_count": null,
   "id": "4e4ebf30",
   "metadata": {},
   "outputs": [],
   "source": [
    "\n",
    "scaler = StandardScaler()\n",
    "X_scaled = scaler.fit_transform(data)\n",
    "\n",
    "X_train, X_test, y_train, y_test = train_test_split(\n",
    "    X_scaled, target, test_size=0.2, stratify=target, random_state=42\n",
    ")\n",
    "\n",
    "smote = SMOTE(random_state=42)\n",
    "X_train_resampled, y_train_resampled = smote.fit_resample(X_train, y_train)\n",
    "    "
   ]
  },
  {
   "cell_type": "code",
   "execution_count": null,
   "id": "8882d7fc",
   "metadata": {},
   "outputs": [],
   "source": [
    "\n",
    "models_config = {\n",
    "    \"Logistic Regression\": {\n",
    "        \"estimator\": LogisticRegression(class_weight=\"balanced\", max_iter=1000),\n",
    "        \"params\": {\"C\": [0.1, 1, 10]}\n",
    "    },\n",
    "    \"Random Forest\": {\n",
    "        \"estimator\": RandomForestClassifier(class_weight=\"balanced\", random_state=42),\n",
    "        \"params\": {\"n_estimators\": [100], \"max_depth\": [5, 10]}\n",
    "    },\n",
    "    \"XGBoost\": {\n",
    "        \"estimator\": XGBClassifier(eval_metric=\"logloss\", random_state=42),\n",
    "        \"params\": {\"n_estimators\": [100], \"max_depth\": [3], \"learning_rate\": [0.1]}\n",
    "    },\n",
    "    \"SVM\": {\n",
    "        \"estimator\": SVC(kernel=\"rbf\", probability=True),\n",
    "        \"params\": {\"C\": [0.1, 1], \"gamma\": [\"scale\"]}\n",
    "    }\n",
    "}\n",
    "\n",
    "best_models = {}\n",
    "model_scores = {}\n",
    "\n",
    "for model_label, config in models_config.items():\n",
    "    print(f\"\\nTraining {model_label}...\")\n",
    "    clf = GridSearchCV(config[\"estimator\"], config[\"params\"], cv=5, scoring=\"f1\", n_jobs=-1)\n",
    "    clf.fit(X_train_resampled, y_train_resampled)\n",
    "\n",
    "    predictions = clf.predict(X_test)\n",
    "    probas = clf.predict_proba(X_test)[:, 1] if hasattr(clf, \"predict_proba\") else None\n",
    "\n",
    "    acc = accuracy_score(y_test, predictions)\n",
    "    prec = precision_score(y_test, predictions)\n",
    "    rec = recall_score(y_test, predictions)\n",
    "    f1 = f1_score(y_test, predictions)\n",
    "    auc = roc_auc_score(y_test, probas) if probas is not None else 0.5\n",
    "\n",
    "    print(f\"Best Params: {clf.best_params_}\")\n",
    "    print(f\"Accuracy: {acc:.2f}\")\n",
    "    print(f\"Precision: {prec:.2f}\")\n",
    "    print(f\"Recall: {rec:.2f}\")\n",
    "    print(f\"F1 Score: {f1:.2f}\")\n",
    "    print(f\"ROC AUC: {auc:.2f}\")\n",
    "\n",
    "    best_models[model_label] = clf\n",
    "    model_scores[model_label] = auc\n",
    "    "
   ]
  },
  {
   "cell_type": "code",
   "execution_count": null,
   "id": "723274bc",
   "metadata": {},
   "outputs": [],
   "source": [
    "\n",
    "best_model_name = max(model_scores, key=model_scores.get)\n",
    "print(f\"\\n✅ Best Performing Model: {best_model_name}\")\n",
    "final_model = best_models[best_model_name]\n",
    "final_preds = final_model.predict(X_test)\n",
    "\n",
    "plt.figure()\n",
    "disp = ConfusionMatrixDisplay.from_predictions(y_test, final_preds, display_labels=[\"Not Readmitted\", \"Readmitted\"], cmap=\"Blues\")\n",
    "plt.title(f\"Confusion Matrix - {best_model_name}\")\n",
    "plt.tight_layout()\n",
    "plt.show()\n",
    "    "
   ]
  },
  {
   "cell_type": "code",
   "execution_count": null,
   "id": "f5cb23c1",
   "metadata": {},
   "outputs": [],
   "source": [
    "\n",
    "plt.figure(figsize=(10, 6))\n",
    "for name, model in best_models.items():\n",
    "    if hasattr(model, \"predict_proba\"):\n",
    "        probas = model.predict_proba(X_test)[:, 1]\n",
    "        fpr, tpr, _ = roc_curve(y_test, probas)\n",
    "        plt.plot(fpr, tpr, label=f\"{name} (AUC = {roc_auc_score(y_test, probas):.2f})\")\n",
    "\n",
    "plt.plot([0, 1], [0, 1], 'k--')\n",
    "plt.title(\"ROC Curve - Readmission Models\")\n",
    "plt.xlabel(\"False Positive Rate\")\n",
    "plt.ylabel(\"True Positive Rate\")\n",
    "plt.legend()\n",
    "plt.tight_layout()\n",
    "plt.show()\n",
    "    "
   ]
  },
  {
   "cell_type": "code",
   "execution_count": null,
   "id": "b7559dc0",
   "metadata": {},
   "outputs": [],
   "source": [
    "\n",
    "if \"XGBoost\" in best_models:\n",
    "    xgb_model = best_models[\"XGBoost\"].best_estimator_\n",
    "    importance_df = pd.DataFrame({\n",
    "        \"Feature\": data.columns,\n",
    "        \"Importance\": xgb_model.feature_importances_\n",
    "    }).sort_values(by=\"Importance\", ascending=True)\n",
    "\n",
    "    plt.figure(figsize=(10, 6))\n",
    "    sns.barplot(data=importance_df, x=\"Importance\", y=\"Feature\")\n",
    "    plt.title(\"Feature Importance - XGBoost\")\n",
    "    plt.tight_layout()\n",
    "    plt.show()\n",
    "    "
   ]
  },
  {
   "cell_type": "code",
   "execution_count": null,
   "id": "a280f62d",
   "metadata": {},
   "outputs": [],
   "source": [
    "\n",
    "joblib.dump(final_model, \"heart_failure_readmission_model.pkl\")\n",
    "joblib.dump(scaler, \"scaler.pkl\")\n",
    "    "
   ]
  }
 ],
 "metadata": {
  "kernelspec": {
   "display_name": "Python 3",
   "language": "python",
   "name": "python3"
  },
  "language_info": {
   "codemirror_mode": {
    "name": "ipython",
    "version": 3
   },
   "file_extension": ".py",
   "mimetype": "text/x-python",
   "name": "python",
   "nbconvert_exporter": "python",
   "pygments_lexer": "ipython3",
   "version": "3.11.5"
  }
 },
 "nbformat": 4,
 "nbformat_minor": 5
}
